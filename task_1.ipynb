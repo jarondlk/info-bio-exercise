{
 "cells": [
  {
   "cell_type": "markdown",
   "metadata": {},
   "source": [
    "# 1 FASTA File\n",
    "\n",
    "obtain FASTA files of protein sequences of the following 7 species from NCBI Genome Database.\n",
    "- Arabidopsis thaliana\n",
    "- Human\n",
    "- Mouse\n",
    "- Zebrafish\n",
    "- Chlamydomonas (green alga)\n",
    "- Cyanidioschizone (red alga)\n",
    "- Budding yeast"
   ]
  },
  {
   "cell_type": "markdown",
   "metadata": {},
   "source": [
    "# 2 Proteins Lenght Comparison\n",
    "Proteins are composed of a series of amino acids, but their length and composition vary from protein to protein. Proteins vary in length, but by looking at the distribution of the length of proteins encoded by a given genome, we can understand the overall picture (proteome) of the proteins of that species. Compare the distribution of protein lengths of each species using the following visualization method. Consider whether converting the protein lengths to logarithmic values changes the interpretation.\n",
    "- Density distribution\n",
    "- Box-and-whisker plot\n",
    "- Violin plot"
   ]
  },
  {
   "cell_type": "code",
   "execution_count": null,
   "metadata": {
    "vscode": {
     "languageId": "plaintext"
    }
   },
   "outputs": [],
   "source": [
    "import os\n",
    "\n",
    "def parse_fasta_folder(input_folder):\n",
    "    \"\"\"\n",
    "    input_folder - folder containing .faa files\n",
    "    return - DataFrame with 'Species', 'Protein ID', 'Protein Length'\n",
    "    \"\"\"\n",
    "    parsed_seqs = {}\n",
    "\n",
    "    # Iterate through all files in the input folder\n",
    "    for filename in os.listdir(input_folder):\n",
    "        if filename.endswith('.faa'):\n",
    "            species_name = filename[:-4]  # Assuming species name is the filename without extension\n",
    "            file_path = os.path.join(input_folder, filename)\n",
    "            \n",
    "            with open(file_path) as f:\n",
    "                curr_seq_id = None\n",
    "                curr_seq = []\n",
    "\n",
    "                for line in f:\n",
    "                    line = line.strip()\n",
    "\n",
    "                    if line.startswith(\">\"):\n",
    "                        if curr_seq_id is not None:\n",
    "                            parsed_seqs[curr_seq_id] = (species_name, ''.join(curr_seq))\n",
    "\n",
    "                        curr_seq_id = line[1:]\n",
    "                        curr_seq = []\n",
    "                        continue\n",
    "\n",
    "                    curr_seq.append(line)\n",
    "\n",
    "                # Add the final sequence to the dict\n",
    "                if curr_seq_id is not None:\n",
    "                    parsed_seqs[curr_seq_id] = (species_name, ''.join(curr_seq))\n",
    "\n",
    "    print(f\"Total sequences parsed: {len(parsed_seqs)}\")\n",
    "    return parsed_seqs\n"
   ]
  },
  {
   "cell_type": "code",
   "execution_count": null,
   "metadata": {
    "vscode": {
     "languageId": "plaintext"
    }
   },
   "outputs": [],
   "source": [
    "def convert_to_dataframe(parsed_seqs):\n",
    "    \"\"\"\n",
    "    Convert the parsed sequences dictionary to a DataFrame.\n",
    "    \"\"\"\n",
    "    data = []\n",
    "    for seq_id, (species, seq) in parsed_seqs.items():\n",
    "        data.append({'Protein ID': seq_id, 'Species': species, 'Protein Length': len(seq)})\n",
    "    \n",
    "    return pd.DataFrame(data)"
   ]
  },
  {
   "cell_type": "code",
   "execution_count": null,
   "metadata": {
    "vscode": {
     "languageId": "plaintext"
    }
   },
   "outputs": [],
   "source": [
    "import pandas as pd\n",
    "import seaborn as sns\n",
    "import matplotlib.pyplot as plt\n",
    "import numpy as np\n",
    "\n",
    "# Set Seaborn style and palette\n",
    "sns.set(style='whitegrid', palette='Set2')\n",
    "\n",
    "def plot_protein_length_distribution(df):\n",
    "    # Add a column for log-transformed protein lengths\n",
    "    df['Log Protein Length'] = np.log10(df['Protein Length'])\n",
    "    \n",
    "    # Set up the plotting area\n",
    "    plt.figure(figsize=(15, 10))\n",
    "\n",
    "    # Density Distribution\n",
    "    plt.subplot(2, 2, 1)\n",
    "    sns.kdeplot(data=df, x='Protein Length', hue='Species', common_norm=False)\n",
    "    plt.title('Density Distribution of Protein Lengths')\n",
    "    plt.legend(title='Species', bbox_to_anchor=(1.05, 1), loc='upper left')  # Make the legend clearer and outside\n",
    "\n",
    "    plt.subplot(2, 2, 2)\n",
    "    sns.kdeplot(data=df, x='Log Protein Length', hue='Species', common_norm=False)\n",
    "    plt.title('Density Distribution of Log Protein Lengths')\n",
    "    plt.legend(title='Species', bbox_to_anchor=(1.05, 1), loc='upper left')\n",
    "\n",
    "    # Box-and-Whisker Plot\n",
    "    plt.subplot(2, 2, 3)\n",
    "    sns.boxplot(data=df, x='Species', y='Protein Length')\n",
    "    plt.title('Box-and-Whisker Plot of Protein Lengths')\n",
    "    plt.xticks(rotation=45)  # Rotate x-axis labels for better readability\n",
    "\n",
    "    plt.subplot(2, 2, 4)\n",
    "    sns.boxplot(data=df, x='Species', y='Log Protein Length')\n",
    "    plt.title('Box-and-Whisker Plot of Log Protein Lengths')\n",
    "    plt.xticks(rotation=45)\n",
    "\n",
    "    plt.tight_layout()\n",
    "    plt.show()\n",
    "\n",
    "    # Violin Plot\n",
    "    plt.figure(figsize=(12, 6))\n",
    "    sns.violinplot(data=df, x='Species', y='Protein Length')\n",
    "    plt.title('Violin Plot of Protein Lengths')\n",
    "    plt.xticks(rotation=45)\n",
    "    plt.show()\n",
    "\n",
    "    plt.figure(figsize=(12, 6))\n",
    "    sns.violinplot(data=df, x='Species', y='Log Protein Length')\n",
    "    plt.title('Violin Plot of Log Protein Lengths')\n",
    "    plt.xticks(rotation=45)\n",
    "    plt.show()\n",
    "\n",
    "\n",
    "# After you have the dataframe from the parsed fasta folder\n",
    "parsed_seqs = parse_fasta_folder('assignment01_data')\n",
    "df = convert_to_dataframe(parsed_seqs)\n",
    "\n",
    "# Call the function to generate the plots\n",
    "plot_protein_length_distribution(df)\n"
   ]
  },
  {
   "cell_type": "markdown",
   "metadata": {},
   "source": [
    "# 3 Relation between Amino content and Lenght\n",
    "Proteins are composed of a series of 20 different amino acids, but the amino acid content of each amino acid is different for each protein. Find out if the amino acid content of each protein is related to the length of the protein.\n",
    "- Scatter Plot\n",
    "- Summarize trends (linear regression, lowess)\n",
    "- Visualization of amino acid composition profiles (heat maps)\n",
    "- Visualization of amino acid composition profiles (hierarchical clustering)\n",
    "- Visualization of amino acid composition profiles (Principal Component Analysis)"
   ]
  },
  {
   "cell_type": "markdown",
   "metadata": {},
   "source": [
    "# 4 Amino acid composition comparison\n",
    "Compare the seven species in terms of amino acid composition of proteins.\n",
    "- Amino acid composition at representative gene lengths\n",
    "- Comparison of amino acid composition of species (heat map)\n",
    "- Comparison of amino acid composition of species (hierarchical clustering)\n",
    "- Comparison of amino acid compositions of species (Principal Component Analysis)"
   ]
  },
  {
   "cell_type": "markdown",
   "metadata": {},
   "source": []
  }
 ],
 "metadata": {
  "language_info": {
   "name": "python"
  }
 },
 "nbformat": 4,
 "nbformat_minor": 2
}
